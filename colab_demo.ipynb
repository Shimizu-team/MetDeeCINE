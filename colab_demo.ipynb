{
 "cells": [
  {
   "cell_type": "markdown",
   "id": "cb924740",
   "metadata": {},
   "source": [
    "# MetDeeCINE Interactive Tutorial\n",
    "This notebook provides an interactive execution of MetDeeCINE on *in vivo* dataset used in the original paper.\n",
    "\n",
    "## Overview\n",
    "MetDeeCINE is an explainable deep learning framework designed to learn the principles of metabolic control from multi-omics data. It integrates foundational stoichiometric knowledge into a graph neural network (GNN) to predict quantitative relationships between enzymes and metabolites.\n",
    "\n",
    "The primary output of MetDeeCINE is the prediction of **Concentration Control Coefficients (CCCs)**, which quantify how a change in the activity of a single enzyme affects the concentration of each metabolite across the entire network.\n",
    "\n",
    "### Expected Runtime\n",
    "~3-5 minutes including installation"
   ]
  },
  {
   "cell_type": "markdown",
   "id": "06a7f4e7",
   "metadata": {},
   "source": [
    "## Step 0: Clone repository and change directory\n"
   ]
  },
  {
   "cell_type": "code",
   "execution_count": null,
   "id": "6597355b",
   "metadata": {},
   "outputs": [],
   "source": [
    "!git clone https://github.com/Takumi110/MetDeeCINE\n",
    "%cd /content/MetDeeCINE/\n",
    "\n",
    "!ls -la"
   ]
  },
  {
   "cell_type": "markdown",
   "id": "131d4397",
   "metadata": {},
   "source": [
    "## Step 1: Import Required Libraries and Initialize"
   ]
  },
  {
   "cell_type": "code",
   "execution_count": null,
   "id": "3a2dc3b6",
   "metadata": {},
   "outputs": [],
   "source": [
    "!pip install optuna"
   ]
  },
  {
   "cell_type": "code",
   "execution_count": null,
   "id": "8cb658ae",
   "metadata": {},
   "outputs": [],
   "source": [
    "# Import required libraries\n",
    "import sys\n",
    "import os\n",
    "from datetime import datetime\n",
    "import numpy as np\n",
    "import pandas as pd\n",
    "import torch\n",
    "import copy\n",
    "import math\n",
    "import shutil\n",
    "\n",
    "# Add src directory to path\n",
    "path = \"/content/MetDeeCINE/src\"\n",
    "sys.path.append(path)\n",
    "\n",
    "# Import MetDeeCINE modules\n",
    "from config import config\n",
    "from preprocessing_new import Preprocessing\n",
    "from mignn import MiGNN\n",
    "from train import *\n",
    "from create_dics import *\n",
    "from metdeecine import *\n",
    "\n",
    "fix_seeds()"
   ]
  },
  {
   "cell_type": "markdown",
   "id": "4eeb586b",
   "metadata": {},
   "source": [
    "## Step 2: Configuration Setup\n",
    "\n",
    "Here we load the configuration settings from `config.py` and create a timestamped output directory for saving results.\n",
    "\n",
    "The configuration includes:\n",
    "- **Data settings**: Input data path (`exp_root`, `exp_name`) and experimental conditions (`exp_strains`)\n",
    "- **Preprocessing settings**: How to generate fold changes and perform cross-validation\n",
    "- **Model hyperparameters**: Learning rate, loss function, activation function, GNN-specific parameters\n",
    "- **Training settings**: Number of epochs, batch size, early stopping patience\n",
    "\n",
    "**Please review and modify these settings as needed.**\n",
    "\n",
    "The default settings are optimized for the Uematsu_2022 dataset used in the original paper."
   ]
  },
  {
   "cell_type": "code",
   "execution_count": 134,
   "id": "07f3b2e9",
   "metadata": {},
   "outputs": [],
   "source": [
    "conf = config()\n",
    "output_dir = \"./results/\"+f\"{datetime.now():%Y%m%d_%H%M%S}/\"\n",
    "os.makedirs(output_dir, exist_ok=True)"
   ]
  },
  {
   "cell_type": "markdown",
   "id": "f8242b52",
   "metadata": {},
   "source": [
    "## Step 3: Save Configuration for Reproducibility\n",
    "\n",
    "We save a copy of the configuration file to the output directory. This ensures that we can reproduce the exact same results later by documenting the parameters used in this run."
   ]
  },
  {
   "cell_type": "code",
   "execution_count": 135,
   "id": "706eff9b",
   "metadata": {},
   "outputs": [
    {
     "data": {
      "text/plain": [
       "'./results/20250908_184741/config.py'"
      ]
     },
     "execution_count": 135,
     "metadata": {},
     "output_type": "execute_result"
    }
   ],
   "source": [
    "config_source = \"src/config.py\"\n",
    "config_destination = output_dir+\"config.py\"\n",
    "shutil.copy2(config_source, config_destination)"
   ]
  },
  {
   "cell_type": "markdown",
   "id": "91297405",
   "metadata": {},
   "source": [
    "## Step 4: Initialize MetDeeCINE\n",
    "\n",
    "Here we create an instance of the MetDeeCINE class. This will:\n",
    "- Load and validate the input data files (CSV files starting with 'tbl')\n",
    "- Parse the stoichiometry file to understand the metabolic network structure\n",
    "- Identify enzymes and metabolites from the data\n",
    "- Set up the preprocessing parameters\n",
    "\n",
    "The system will print the number of enzymes and metabolites detected from your input data."
   ]
  },
  {
   "cell_type": "code",
   "execution_count": 136,
   "id": "068c67c0",
   "metadata": {},
   "outputs": [
    {
     "name": "stdout",
     "output_type": "stream",
     "text": [
      "Number of enzymes: 15\n",
      "Number of metabolites: 27\n"
     ]
    }
   ],
   "source": [
    "metdeecine = MetDeeCINE(conf)"
   ]
  },
  {
   "cell_type": "markdown",
   "id": "5d398d98",
   "metadata": {},
   "source": [
    "## Step 5: Data Preprocessing\n",
    "\n",
    "This is a crucial step that prepares the data for machine learning. The `data_preprocessing()` method performs several operations:\n",
    "\n",
    "1. **Fold Change Calculation**: Computes log fold changes between different experimental conditions\n",
    "2. **Data Splitting**: Creates training and validation sets using the specified cross-validation method (default: leave-one-strain-out)\n",
    "3. **Data Standardization**: Applies standardization to input features if specified\n",
    "4. **Network Matrices**: Constructs enzyme-metabolite (EM) and metabolite-metabolite (MM) adjacency matrices from stoichiometry.txt\n",
    "5. **DataLoader Creation**: Prepares PyTorch DataLoaders for efficient batch processing during training\n",
    "6. **Inference Input**: Prepares input vectors for CCC inference (vectors with single enzyme perturbations)\n",
    "\n",
    "The output includes all the data structures needed for training and inference."
   ]
  },
  {
   "cell_type": "code",
   "execution_count": 137,
   "id": "fee6519a",
   "metadata": {},
   "outputs": [
    {
     "name": "stderr",
     "output_type": "stream",
     "text": [
      "/Users/tito/Library/CloudStorage/OneDrive-ScienceTokyo/Research/MetDeeCINE/Github/./src/preprocessing_new.py:260: FutureWarning: DataFrame.applymap has been deprecated. Use DataFrame.map instead.\n",
      "  sample_concat_log=sample_concat.drop(\"index_col\",axis=1).applymap(lambda x: np.log(x))\n",
      "/Users/tito/Library/CloudStorage/OneDrive-ScienceTokyo/Research/MetDeeCINE/Github/./src/preprocessing_new.py:260: FutureWarning: DataFrame.applymap has been deprecated. Use DataFrame.map instead.\n",
      "  sample_concat_log=sample_concat.drop(\"index_col\",axis=1).applymap(lambda x: np.log(x))\n",
      "/Users/tito/Library/CloudStorage/OneDrive-ScienceTokyo/Research/MetDeeCINE/Github/./src/preprocessing_new.py:163: FutureWarning: DataFrame.applymap has been deprecated. Use DataFrame.map instead.\n",
      "  enz = enz.applymap(lambda x: np.log(x) )\n"
     ]
    }
   ],
   "source": [
    "train_loader_list, val_loader_list, train_loader_all, inference_input, model_settings = metdeecine.data_preprocessing()"
   ]
  },
  {
   "cell_type": "markdown",
   "id": "0d781282",
   "metadata": {},
   "source": [
    "## Step 6: Hyperparameter Tuning (Optional)\n",
    "\n",
    "This step uses Optuna, a Bayesian optimization framework, to automatically find the best hyperparameters for your dataset. The optimization process:\n",
    "\n",
    "1. **Search Space**: Explores different combinations of:\n",
    "   - Loss function (MSE, L1)\n",
    "   - Regularization type (L1, L2)\n",
    "   - Activation function (tanh, relu, elu, swish, mish)\n",
    "   - GNN layers and regularization weights\n",
    "\n",
    "2. **Cross-Validation**: Each hyperparameter combination is evaluated using cross-validation on the training data\n",
    "\n",
    "3. **Optimization Metric**: Maximizes Pearson correlation coefficient (PCC) between predicted and true metabolite changes\n",
    "\n",
    "4. **Trial Storage**: Results are saved in SQLite database and CSV file for later analysis\n",
    "\n",
    "**Note**: The number of trials is set to 2 in the default configuration for demonstration purposes. For real applications, consider increasing this to 50-100 trials.\n",
    "\n",
    "You can optimize other hyperparameters as well, such as learning rate and batch size."
   ]
  },
  {
   "cell_type": "code",
   "execution_count": null,
   "id": "bd682db4",
   "metadata": {},
   "outputs": [],
   "source": [
    "# Hyperparameter tuning using MetDeeCINE integrated method\n",
    "best_params = metdeecine.hyperparameter_tuning(train_loader_list, val_loader_list, output_dir)\n",
    "print(\"Best hyperparameters:\", best_params)"
   ]
  },
  {
   "cell_type": "markdown",
   "id": "33fa588e",
   "metadata": {},
   "source": [
    "## Step 7: Update Configuration with Optimized Parameters\n",
    "\n",
    "**IMPORTANT**: If hyperparameter tuning was performed, we must update the configuration with the optimized parameters and reinitialize MetDeeCINE.\n",
    "If no hyperparameter tuning was performed (best_params is empty), we proceed with the default parameters."
   ]
  },
  {
   "cell_type": "code",
   "execution_count": null,
   "id": "e24c2690",
   "metadata": {},
   "outputs": [],
   "source": [
    "# IMPORTANT: Update config with best parameters and reinitialize MetDeeCINE\n",
    "if best_params:\n",
    "    # Update config with best parameters\n",
    "    for param_name, param_value in best_params.items():\n",
    "        setattr(conf, param_name, param_value)\n",
    "    \n",
    "    # Reinitialize MetDeeCINE and rerun preprocessing\n",
    "    metdeecine = MetDeeCINE(conf)\n",
    "    train_loader_list, val_loader_list, train_loader_all, inference_input, model_settings = metdeecine.data_preprocessing()\n",
    "    print(\"MetDeeCINE reinitialized with optimized hyperparameters\")\n",
    "else:\n",
    "    print(\"No hyperparameter tuning was performed, using default parameters\")"
   ]
  },
  {
   "cell_type": "markdown",
   "id": "0578eaa9",
   "metadata": {},
   "source": [
    "## Step 8: Model Training\n",
    "\n",
    "Now we train the MiGNN (Metabolism-informed Graph Neural Network) model. The training process involves:\n",
    "\n",
    "1. **Cross-Validation Training**: The model is trained using the specified cross-validation method (leave-one-strain-out by default)\n",
    "\n",
    "2. **For Each Fold**:\n",
    "   - Initialize model parameters using Xavier initialization\n",
    "   - Train the model using the AdamW optimizer\n",
    "   - Apply early stopping based on validation loss\n",
    "   - Calculate performance metrics (PCC, SCC, R²)\n",
    "\n",
    "3. **Final Model Training**: After determining the optimal number of epochs from cross-validation, train a final model on the entire dataset\n",
    "\n",
    "4. **Model Saving**: Save the trained model weights to a .pth file for later use\n",
    "\n",
    "The training uses the loss function combining:\n",
    "- Data fitting loss (L1 or MSE)\n",
    "- Regularization terms that encourage the model to respect the metabolic network structure"
   ]
  },
  {
   "cell_type": "code",
   "execution_count": null,
   "id": "6ee8ad9d",
   "metadata": {},
   "outputs": [],
   "source": [
    "metdeecine.fc_training(model_settings, train_loader_list, val_loader_list, train_loader_all, parameter_save_path=output_dir+'model_params.pth')"
   ]
  },
  {
   "cell_type": "markdown",
   "id": "0ccb1fc7",
   "metadata": {},
   "source": [
    "## Step 9: CCC Inference\n",
    "\n",
    "Finally, we use the trained model to infer Concentration Control Coefficients (CCCs). This process:\n",
    "\n",
    "1. **Load Model**: Loads the trained model weights (you can use either the newly trained model or the provided pre-trained weights)\n",
    "\n",
    "2. **Generate Input Vectors**: Creates input vectors where only one enzyme at a time has a non-zero log fold change, while all others are set to zero\n",
    "\n",
    "3. **Model Prediction**: Feeds these vectors through the trained model to predict the resulting metabolite fold changes\n",
    "\n",
    "4. **CCC Calculation**: Converts the predictions into CCCs by dividing the predicted metabolite changes by the enzyme changes\n",
    "\n",
    "5. **Output Generation**: Saves the CCC matrix as `meanCCC.csv`, where:\n",
    "   - **Rows**: Enzymes (KEGG IDs)\n",
    "   - **Columns**: Metabolites (KEGG IDs)\n",
    "   - **Values**: CCC values indicating the quantitative effect of each enzyme on each metabolite\n",
    "\n",
    "**Note**: We're using pre-trained weights here for demonstration, but you can replace the path with `output_dir+'model_params.pth'` to use your newly trained model."
   ]
  },
  {
   "cell_type": "code",
   "execution_count": 81,
   "id": "462d9c3f",
   "metadata": {},
   "outputs": [],
   "source": [
    "metdeecine.ccc_inference(model_settings, inference_input, output_dir, parameter_load_path='./input/Uematsu_2022/pretrained_weight.pth')"
   ]
  },
  {
   "cell_type": "markdown",
   "id": "6f539c0a",
   "metadata": {},
   "source": [
    "## Results Interpretation\n",
    "\n",
    "### Output Files\n",
    "The results are saved in the timestamped directory and include:\n",
    "\n",
    "- **`meanCCC.csv`**: The main output containing the CCC matrix\n",
    "- **`model_params.pth`**: Trained model weights for future use\n",
    "- **`config.py`**: Copy of configuration for reproducibility\n",
    "- **`optuna_study.db` and `optuna_study.csv`**: Hyperparameter optimization results (if performed)\n",
    "\n",
    "### Understanding CCC Values\n",
    "Positive values indicate that enzyme increase leads to metabolite increase in the steady state and negative values indicate metabolite decrease, with larger absolute values indicating stronger regulatory effects"
   ]
  }
 ],
 "metadata": {
  "kernelspec": {
   "display_name": "playground",
   "language": "python",
   "name": "python3"
  },
  "language_info": {
   "codemirror_mode": {
    "name": "ipython",
    "version": 3
   },
   "file_extension": ".py",
   "mimetype": "text/x-python",
   "name": "python",
   "nbconvert_exporter": "python",
   "pygments_lexer": "ipython3",
   "version": "3.10.16"
  }
 },
 "nbformat": 4,
 "nbformat_minor": 5
}
